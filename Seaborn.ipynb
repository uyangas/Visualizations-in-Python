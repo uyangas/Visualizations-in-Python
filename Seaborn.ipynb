{
  "nbformat": 4,
  "nbformat_minor": 0,
  "metadata": {
    "colab": {
      "name": "Seaborn.ipynb",
      "provenance": [],
      "toc_visible": true,
      "mount_file_id": "1_FnU3JYRtXcHcTYgE3WFDto7oDuVk4Gj",
      "authorship_tag": "ABX9TyPs/ZCohzBFpBpd1ImVx9Qb",
      "include_colab_link": true
    },
    "kernelspec": {
      "name": "python3",
      "display_name": "Python 3"
    }
  },
  "cells": [
    {
      "cell_type": "markdown",
      "metadata": {
        "id": "view-in-github",
        "colab_type": "text"
      },
      "source": [
        "<a href=\"https://colab.research.google.com/github/uyangas/Visualizations-in-Python/blob/master/Seaborn.ipynb\" target=\"_parent\"><img src=\"https://colab.research.google.com/assets/colab-badge.svg\" alt=\"Open In Colab\"/></a>"
      ]
    },
    {
      "cell_type": "markdown",
      "metadata": {
        "id": "7KQapXz_imX9"
      },
      "source": [
        "## Title of the dataset (Seaborn)"
      ]
    },
    {
      "cell_type": "markdown",
      "metadata": {
        "id": "Td9DM1tqwUXZ"
      },
      "source": [
        "Used `seaborn` package to visualize the dataset"
      ]
    },
    {
      "cell_type": "code",
      "metadata": {
        "id": "z3FZ8rS4iYsp"
      },
      "source": [
        "import pandas as pd \n",
        "import numpy as np\n",
        "import seaborn as sns"
      ],
      "execution_count": 1,
      "outputs": []
    },
    {
      "cell_type": "code",
      "metadata": {
        "id": "uSamuxKZil1F"
      },
      "source": [
        "from google.colab import drive"
      ],
      "execution_count": 27,
      "outputs": []
    },
    {
      "cell_type": "code",
      "metadata": {
        "colab": {
          "base_uri": "https://localhost:8080/"
        },
        "id": "H2VA2qiGw__W",
        "outputId": "66b952cd-9022-496c-8f9f-ea108af373aa"
      },
      "source": [
        "drive.mount('/content/drive/')"
      ],
      "execution_count": 28,
      "outputs": [
        {
          "output_type": "stream",
          "text": [
            "Drive already mounted at /content/drive/; to attempt to forcibly remount, call drive.mount(\"/content/drive/\", force_remount=True).\n"
          ],
          "name": "stdout"
        }
      ]
    },
    {
      "cell_type": "code",
      "metadata": {
        "id": "4Yeux2RnxI35"
      },
      "source": [
        "pm = pd.read_csv('/content/drive/My Drive/ML Projects/Visualizations-in-Python/Source/UB Air pollution/pm_data.csv')"
      ],
      "execution_count": 29,
      "outputs": []
    },
    {
      "cell_type": "code",
      "metadata": {
        "colab": {
          "base_uri": "https://localhost:8080/",
          "height": 204
        },
        "id": "T5rRpddWxXIB",
        "outputId": "6ad37e76-73a8-4b70-e8ca-3de9f0b7ca08"
      },
      "source": [
        "pm.head()"
      ],
      "execution_count": 30,
      "outputs": [
        {
          "output_type": "execute_result",
          "data": {
            "text/html": [
              "<div>\n",
              "<style scoped>\n",
              "    .dataframe tbody tr th:only-of-type {\n",
              "        vertical-align: middle;\n",
              "    }\n",
              "\n",
              "    .dataframe tbody tr th {\n",
              "        vertical-align: top;\n",
              "    }\n",
              "\n",
              "    .dataframe thead th {\n",
              "        text-align: right;\n",
              "    }\n",
              "</style>\n",
              "<table border=\"1\" class=\"dataframe\">\n",
              "  <thead>\n",
              "    <tr style=\"text-align: right;\">\n",
              "      <th></th>\n",
              "      <th>Unnamed: 0</th>\n",
              "      <th>lat</th>\n",
              "      <th>lon</th>\n",
              "      <th>type</th>\n",
              "      <th>source</th>\n",
              "      <th>aqi_mn</th>\n",
              "      <th>unit</th>\n",
              "      <th>date</th>\n",
              "      <th>station</th>\n",
              "      <th>station_mn</th>\n",
              "    </tr>\n",
              "  </thead>\n",
              "  <tbody>\n",
              "    <tr>\n",
              "      <th>0</th>\n",
              "      <td>0</td>\n",
              "      <td>47.928000</td>\n",
              "      <td>106.929000</td>\n",
              "      <td>PM2.5</td>\n",
              "      <td>Stateair.mn</td>\n",
              "      <td>6.0</td>\n",
              "      <td>µg/m3</td>\n",
              "      <td>2020-11-16 07:00:00</td>\n",
              "      <td>US Embassy</td>\n",
              "      <td>АНУ-ын Элчин сайдын яам</td>\n",
              "    </tr>\n",
              "    <tr>\n",
              "      <th>1</th>\n",
              "      <td>1</td>\n",
              "      <td>47.957560</td>\n",
              "      <td>106.822752</td>\n",
              "      <td>PM10</td>\n",
              "      <td>Agaar.mn</td>\n",
              "      <td>30.0</td>\n",
              "      <td>µg/m3</td>\n",
              "      <td>2020-11-16 07:00:00</td>\n",
              "      <td>Bayankhoshuu</td>\n",
              "      <td>Баянхошуу</td>\n",
              "    </tr>\n",
              "    <tr>\n",
              "      <th>2</th>\n",
              "      <td>2</td>\n",
              "      <td>47.957560</td>\n",
              "      <td>106.822752</td>\n",
              "      <td>PM10</td>\n",
              "      <td>Agaar.mn</td>\n",
              "      <td>44.0</td>\n",
              "      <td>µg/m3</td>\n",
              "      <td>2020-11-16 06:00:00</td>\n",
              "      <td>Bayankhoshuu</td>\n",
              "      <td>Баянхошуу</td>\n",
              "    </tr>\n",
              "    <tr>\n",
              "      <th>3</th>\n",
              "      <td>3</td>\n",
              "      <td>47.928000</td>\n",
              "      <td>106.929000</td>\n",
              "      <td>PM2.5</td>\n",
              "      <td>Stateair.mn</td>\n",
              "      <td>6.0</td>\n",
              "      <td>µg/m3</td>\n",
              "      <td>2020-11-16 06:00:00</td>\n",
              "      <td>US Embassy</td>\n",
              "      <td>АНУ-ын Элчин сайдын яам</td>\n",
              "    </tr>\n",
              "    <tr>\n",
              "      <th>4</th>\n",
              "      <td>4</td>\n",
              "      <td>47.913429</td>\n",
              "      <td>106.997907</td>\n",
              "      <td>PM2.5</td>\n",
              "      <td>Agaar.mn</td>\n",
              "      <td>10.0</td>\n",
              "      <td>µg/m3</td>\n",
              "      <td>2020-11-16 06:00:00</td>\n",
              "      <td>Amgalan</td>\n",
              "      <td>Амгалан</td>\n",
              "    </tr>\n",
              "  </tbody>\n",
              "</table>\n",
              "</div>"
            ],
            "text/plain": [
              "   Unnamed: 0        lat  ...       station               station_mn\n",
              "0           0  47.928000  ...    US Embassy  АНУ-ын Элчин сайдын яам\n",
              "1           1  47.957560  ...  Bayankhoshuu                Баянхошуу\n",
              "2           2  47.957560  ...  Bayankhoshuu                Баянхошуу\n",
              "3           3  47.928000  ...    US Embassy  АНУ-ын Элчин сайдын яам\n",
              "4           4  47.913429  ...       Amgalan                  Амгалан\n",
              "\n",
              "[5 rows x 10 columns]"
            ]
          },
          "metadata": {
            "tags": []
          },
          "execution_count": 30
        }
      ]
    },
    {
      "cell_type": "code",
      "metadata": {
        "id": "CZz6AxKfxh6M"
      },
      "source": [
        ""
      ],
      "execution_count": null,
      "outputs": []
    }
  ]
}